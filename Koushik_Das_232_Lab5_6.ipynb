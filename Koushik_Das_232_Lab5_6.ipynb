{
 "cells": [
  {
   "cell_type": "code",
   "execution_count": 15,
   "metadata": {},
   "outputs": [
    {
     "name": "stdout",
     "output_type": "stream",
     "text": [
      "division by zero\n"
     ]
    }
   ],
   "source": [
    "# Q1. Write a program to handle the exception of ZeroDivisionError.\n",
    "try:\n",
    "    a=int(input(\"Enter 1st number\"))\n",
    "    b=int(input(\"Enter 2nd number\"))\n",
    "    c=a/b\n",
    "    print(c)\n",
    "except ZeroDivisionError as e:\n",
    "    print(e)\n",
    "    # print(\"It's an error\")"
   ]
  },
  {
   "cell_type": "code",
   "execution_count": 14,
   "metadata": {},
   "outputs": [
    {
     "name": "stdout",
     "output_type": "stream",
     "text": [
      "list index out of range\n",
      "The code ran successfully\n"
     ]
    }
   ],
   "source": [
    "# Q2. Write a program to handle the exception of IndexError.\n",
    "# [Handle the exceptions with ‘Try’, ‘Except’, ‘Finally’ and ‘Raise’ according to the requirements in the program.]\n",
    "\n",
    "try:\n",
    "    arr1=[\"koushik\",\"das\",1,2]\n",
    "    print(arr1[4])\n",
    "    print(arr1[3])\n",
    "    a=int(input(\"Enter 1st number\"))\n",
    "    b=int(input(\"Enter 2nd number\"))\n",
    "    if(b==0):\n",
    "        raise ZeroDivisionError(\"ZeroDivisionError\")\n",
    "    else:\n",
    "        print(a/b)\n",
    "except IndexError as e:\n",
    "    print(e)\n",
    "finally:\n",
    "    print(\"The code ran successfully\")\n"
   ]
  },
  {
   "cell_type": "code",
   "execution_count": 19,
   "metadata": {},
   "outputs": [
    {
     "name": "stdout",
     "output_type": "stream",
     "text": [
      "Invalid phn number\n"
     ]
    }
   ],
   "source": [
    "# Q1. Write a program using the Regular Exception and create a function that accepts a string and searches it for a valid phone number.\n",
    "# Return the phone number if found.\n",
    "# A valid phone number may be one of the following:\n",
    "# (xxx)-xxx-xxxx\n",
    "# xxx-xxx-xxxx\n",
    "\n",
    "import re\n",
    "def func1(text):\n",
    "    pattern1=r'[(?][0-9]{3}[)?]\\-[0-9]{3}\\-[0-9]{4}'\n",
    "    pattern2=r'[0-9]{3}-[0-9]{3}-[0-9]{4}'\n",
    "    match1=re.search(pattern1,text)\n",
    "    match2=re.search(pattern2,text)\n",
    "    if match1 or match2:\n",
    "        print(\"Valid phn number\")\n",
    "    else:\n",
    "        print(\"Invalid phn number\")\n",
    "text=str(input(\"Enter the string\"))\n",
    "func1(text)\n"
   ]
  },
  {
   "cell_type": "code",
   "execution_count": 1,
   "metadata": {},
   "outputs": [
    {
     "name": "stdout",
     "output_type": "stream",
     "text": [
      "Password Set Successfully\n"
     ]
    }
   ],
   "source": [
    "# Q2. Write a function that employs regular expressions to ensure the password given to the function is strong.\n",
    "# A strong password is defined as follows:\n",
    "# ·       at least eight characters long\n",
    "# ·       contains one uppercase character\n",
    "# ·       contains one lowercase character\n",
    "# ·       has at least one digit\n",
    "# ·       has at least one special character\n",
    "# [For instance: Christ@123]\n",
    "\n",
    "import re\n",
    "def func1(text):\n",
    "    pattern2=r'[A-Z]+'\n",
    "    pattern3=r'[a-z]+'\n",
    "    pattern4=r'[0-9]+'\n",
    "    pattern5=r'[@ - / , .]+'\n",
    "    match2=re.search(pattern2,text)\n",
    "    match3=re.search(pattern3,text)\n",
    "    match4=re.search(pattern4,text)\n",
    "    match5=re.search(pattern5,text)\n",
    "    if match2 and match3 and match4 and match5:\n",
    "        print(\"Password Set Successfully\")\n",
    "    else:\n",
    "        print(\"Set a Valid Password\")\n",
    "text=str(input(\"Enter the string\"))\n",
    "func1(text)"
   ]
  }
 ],
 "metadata": {
  "kernelspec": {
   "display_name": "Python 3.10.6 64-bit",
   "language": "python",
   "name": "python3"
  },
  "language_info": {
   "codemirror_mode": {
    "name": "ipython",
    "version": 3
   },
   "file_extension": ".py",
   "mimetype": "text/x-python",
   "name": "python",
   "nbconvert_exporter": "python",
   "pygments_lexer": "ipython3",
   "version": "3.10.6"
  },
  "orig_nbformat": 4,
  "vscode": {
   "interpreter": {
    "hash": "52634da84371cba311ea128a5ea7cdc41ff074b781779e754b270ff9f8153cee"
   }
  }
 },
 "nbformat": 4,
 "nbformat_minor": 2
}
